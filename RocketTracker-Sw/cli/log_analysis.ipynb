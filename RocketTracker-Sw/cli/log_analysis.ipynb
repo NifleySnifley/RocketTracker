{
 "cells": [
  {
   "cell_type": "code",
   "execution_count": 239,
   "metadata": {},
   "outputs": [],
   "source": [
    "import pickle\n",
    "import matplotlib.pyplot as plt\n",
    "from ctypes import *\n",
    "import numpy as np\n",
    "import base64"
   ]
  },
  {
   "cell_type": "code",
   "execution_count": 240,
   "metadata": {},
   "outputs": [],
   "source": [
    "from lib.proto.protocol_pb2 import *\n",
    "from google.protobuf.json_format import MessageToJson, ParseDict, MessageToDict\n",
    "from lib.proto.protocol_pb2 import DatumTypeID, LinkID, TalkerID\n",
    "import lib.proto.protocol_pb2 as protocol\n",
    "from lib.comms_lib.crctabgen import crc16\n",
    "# from link import cobs_decode"
   ]
  },
  {
   "cell_type": "code",
   "execution_count": 241,
   "metadata": {},
   "outputs": [],
   "source": [
    "segments = pickle.load(open(\"./log_200hz.pickle\", 'rb'))\n",
    "segments, ack = segments[:-1], segments[-1]\n",
    "crc_xor = ack['log_crc16']"
   ]
  },
  {
   "cell_type": "code",
   "execution_count": 242,
   "metadata": {},
   "outputs": [
    {
     "name": "stdout",
     "output_type": "stream",
     "text": [
      "dict_keys(['start_address', 'length', 'data', 'segment_crc16'])\n"
     ]
    }
   ],
   "source": [
    "print(segments[0].keys())"
   ]
  },
  {
   "cell_type": "code",
   "execution_count": 243,
   "metadata": {},
   "outputs": [
    {
     "name": "stdout",
     "output_type": "stream",
     "text": [
      "Data valid!\n"
     ]
    }
   ],
   "source": [
    "xor = 0\n",
    "for s in segments:\n",
    "    xor ^= s['segment_crc16']\n",
    "if (xor == crc_xor):\n",
    "    print(\"Data valid!\")"
   ]
  },
  {
   "cell_type": "code",
   "execution_count": 244,
   "metadata": {},
   "outputs": [],
   "source": [
    "LOGGER_COBS_ESC =0xAA\n",
    "LOGGER_COBS_ESC_AA =0x01\n",
    "LOGGER_COBS_ESC_FF =0x02\n",
    "def cobs_decode(data: bytes) -> bytes:\n",
    "    dout = bytes()\n",
    "    diter = iter(data)\n",
    "    while (d := next(diter, None)) is not None:\n",
    "        if (d == LOGGER_COBS_ESC):\n",
    "            dout += bytes([LOGGER_COBS_ESC if next(diter, None)\n",
    "                          == LOGGER_COBS_ESC_AA else 0xFF])\n",
    "        else:\n",
    "            dout += bytes([d])\n",
    "    return dout"
   ]
  },
  {
   "cell_type": "code",
   "execution_count": 245,
   "metadata": {},
   "outputs": [
    {
     "name": "stdout",
     "output_type": "stream",
     "text": [
      "216594 57847\n"
     ]
    }
   ],
   "source": [
    "# TODO: Change the escape byte!!! 00 is too common...\n",
    "databuffer = bytes()\n",
    "for s in segments:\n",
    "    databuffer += base64.b64decode(s['data'])\n",
    "# data = cobs_decode(databuffer)\n",
    "print(len(data), len(databuffer))"
   ]
  },
  {
   "cell_type": "code",
   "execution_count": 246,
   "metadata": {},
   "outputs": [
    {
     "name": "stdout",
     "output_type": "stream",
     "text": [
      "{80}\n"
     ]
    }
   ],
   "source": [
    "frames = databuffer.split(b'\\xFF')\n",
    "frames_dec = [cobs_decode(f) for f in frames if len(f)]\n",
    "print({len(f) for f in frames_dec})\n",
    "assert len({len(f) for f in frames_dec}) == 1"
   ]
  },
  {
   "cell_type": "code",
   "execution_count": 247,
   "metadata": {},
   "outputs": [],
   "source": [
    "# typedef struct log_data_t {\n",
    "#     // Sensor data\n",
    "#     uint32_t lps_press_raw;\n",
    "#     uint16_t lis_mag_raw[3];\n",
    "#     uint16_t lsm_acc_raw[3];\n",
    "#     uint16_t lsm_gyr_raw[3];\n",
    "#     float adxl_acc_raw[3]; // TYPE TBD!!!\n",
    "#     // Processed data\n",
    "#     float orientation_quat[4];\n",
    "#     float filtered_altitude_m;\n",
    "#     // From GPS\n",
    "#     float gps_lat;\n",
    "#     float gps_lon;\n",
    "#     float gps_alt;\n",
    "#     uint8_t flags;\n",
    "# } log_data_t;\n",
    "\n",
    "class LogDataT(Structure):\n",
    "    _fields_ = [\n",
    "        (\"TIMESTAMP\", c_uint64),\n",
    "        (\"lps_press_raw\", c_uint32),\n",
    "        (\"lis_mag_raw\", c_int16*3),\n",
    "        (\"lsm_acc_raw\", c_int16*3),\n",
    "        (\"lsm_gyr_raw\", c_int16*3),\n",
    "        (\"adxl_acc_raw\", c_float*3),\n",
    "        (\"orientation_quat\", c_float*4),\n",
    "        (\"filtered_altitude_m\", c_float),\n",
    "        (\"gps_lat\", c_float),\n",
    "        (\"gps_lon\", c_float),\n",
    "        (\"gps_alt\", c_float),\n",
    "        (\"flags\", c_uint8),\n",
    "    ]\n",
    "    \n",
    "assert (sizeof(LogDataT)) == len(frames_dec[0])"
   ]
  },
  {
   "cell_type": "code",
   "execution_count": 248,
   "metadata": {},
   "outputs": [],
   "source": [
    "parsed_frames = [LogDataT.from_buffer_copy(b) for b in frames_dec]"
   ]
  },
  {
   "cell_type": "code",
   "execution_count": 255,
   "metadata": {},
   "outputs": [
    {
     "data": {
      "image/png": "[encoded data removed]",
      "text/plain": [
       "<Figure size 640x480 with 1 Axes>"
      ]
     },
     "metadata": {},
     "output_type": "display_data"
    }
   ],
   "source": [
    "def magnetometer_cal():\n",
    "    times = [f.TIMESTAMP for f in parsed_frames]\n",
    "    mag_xs = [f.lis_mag_raw[0] for f in parsed_frames]\n",
    "    mag_ys = [f.lis_mag_raw[1] for f in parsed_frames]\n",
    "    mag_zs = [f.lis_mag_raw[2] for f in parsed_frames]\n",
    "    # print(times)\n",
    "    \n",
    "    plt.plot(times, mag_zs)\n",
    "    # fig = plt.figure()\n",
    "    # ax = fig.add_subplot(projection='3d')\n",
    "    # ax.scatter(mag_xs, mag_ys, mag_zs)\n",
    "\n",
    "    # ax.set_xlabel('Magnetometer X (raw)')\n",
    "    # ax.set_ylabel('Magnetometer Y (raw)')\n",
    "    # ax.set_zlabel('Magnetometer Z (raw)')\n",
    "magnetometer_cal()"
   ]
  },
  {
   "cell_type": "code",
   "execution_count": null,
   "metadata": {},
   "outputs": [],
   "source": []
  },
  {
   "cell_type": "code",
   "execution_count": null,
   "metadata": {},
   "outputs": [],
   "source": []
  }
 ],
 "metadata": {
  "kernelspec": {
   "display_name": "Python 3",
   "language": "python",
   "name": "python3"
  },
  "language_info": {
   "codemirror_mode": {
    "name": "ipython",
    "version": 3
   },
   "file_extension": ".py",
   "mimetype": "text/x-python",
   "name": "python",
   "nbconvert_exporter": "python",
   "pygments_lexer": "ipython3",
   "version": "3.10.11"
  }
 },
 "nbformat": 4,
 "nbformat_minor": 2
}
