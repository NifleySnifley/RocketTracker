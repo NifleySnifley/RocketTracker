{
 "cells": [
  {
   "cell_type": "code",
   "execution_count": 401,
   "metadata": {},
   "outputs": [],
   "source": [
    "import pickle\n",
    "import matplotlib.pyplot as plt\n",
    "from ctypes import *\n",
    "import numpy as np\n",
    "import base64\n",
    "import matplotlib"
   ]
  },
  {
   "cell_type": "code",
   "execution_count": 402,
   "metadata": {},
   "outputs": [],
   "source": [
    "from lib.proto.protocol_pb2 import *\n",
    "from google.protobuf.json_format import MessageToJson, ParseDict, MessageToDict\n",
    "from lib.proto.protocol_pb2 import DatumTypeID, LinkID, TalkerID\n",
    "import lib.proto.protocol_pb2 as protocol\n",
    "from lib.comms_lib.crctabgen import crc16\n",
    "# from link import cobs_decode"
   ]
  },
  {
   "cell_type": "code",
   "execution_count": 403,
   "metadata": {},
   "outputs": [],
   "source": [
    "segments = pickle.load(open(\"./log_50hz_walking.pickle\", 'rb'))\n",
    "segments, ack = segments[:-1], segments[-1]\n",
    "crc_xor = ack['log_crc16']"
   ]
  },
  {
   "cell_type": "code",
   "execution_count": 404,
   "metadata": {},
   "outputs": [
    {
     "name": "stdout",
     "output_type": "stream",
     "text": [
      "dict_keys(['start_address', 'length', 'data', 'segment_crc16'])\n"
     ]
    }
   ],
   "source": [
    "print(segments[0].keys())"
   ]
  },
  {
   "cell_type": "code",
   "execution_count": 405,
   "metadata": {},
   "outputs": [
    {
     "name": "stdout",
     "output_type": "stream",
     "text": [
      "Data valid!\n"
     ]
    }
   ],
   "source": [
    "xor = 0\n",
    "for s in segments:\n",
    "    xor ^= s['segment_crc16']\n",
    "if (xor == crc_xor):\n",
    "    print(\"Data valid!\")"
   ]
  },
  {
   "cell_type": "code",
   "execution_count": 406,
   "metadata": {},
   "outputs": [],
   "source": [
    "LOGGER_COBS_ESC =0xAA\n",
    "LOGGER_COBS_ESC_AA =0x01\n",
    "LOGGER_COBS_ESC_FF =0x02\n",
    "def cobs_decode(data: bytes) -> bytes:\n",
    "    dout = bytes()\n",
    "    diter = iter(data)\n",
    "    while (d := next(diter, None)) is not None:\n",
    "        if (d == LOGGER_COBS_ESC):\n",
    "            dout += bytes([LOGGER_COBS_ESC if next(diter, None)\n",
    "                          == LOGGER_COBS_ESC_AA else 0xFF])\n",
    "        else:\n",
    "            dout += bytes([d])\n",
    "    return dout"
   ]
  },
  {
   "cell_type": "code",
   "execution_count": 407,
   "metadata": {},
   "outputs": [],
   "source": [
    "# TODO: Change the escape byte!!! 00 is too common...\n",
    "databuffer = bytes()\n",
    "for s in segments:\n",
    "    databuffer += base64.b64decode(s['data'])\n",
    "# data = cobs_decode(databuffer)\n",
    "# print(len(data), len(databuffer))"
   ]
  },
  {
   "cell_type": "code",
   "execution_count": 408,
   "metadata": {},
   "outputs": [
    {
     "name": "stdout",
     "output_type": "stream",
     "text": [
      "{72}\n"
     ]
    }
   ],
   "source": [
    "frames = databuffer.split(b'\\xFF')\n",
    "frames_dec = [cobs_decode(f) for f in frames if len(f)]\n",
    "print({len(f) for f in frames_dec})\n",
    "assert len({len(f) for f in frames_dec}) == 1"
   ]
  },
  {
   "cell_type": "code",
   "execution_count": 409,
   "metadata": {},
   "outputs": [],
   "source": [
    "# typedef struct log_data_t {\n",
    "#     // Sensor data\n",
    "#     uint32_t lps_press_raw;\n",
    "#     uint16_t lis_mag_raw[3];\n",
    "#     uint16_t lsm_acc_raw[3];\n",
    "#     uint16_t lsm_gyr_raw[3];\n",
    "#     float adxl_acc_raw[3]; // TYPE TBD!!!\n",
    "#     // Processed data\n",
    "#     float orientation_quat[4];\n",
    "#     float filtered_altitude_m;\n",
    "#     // From GPS\n",
    "#     float gps_lat;\n",
    "#     float gps_lon;\n",
    "#     float gps_alt;\n",
    "#     uint8_t flags;\n",
    "# } log_data_t;\n",
    "\n",
    "class LogDataT(Structure):\n",
    "    _fields_ = [\n",
    "        (\"TIMESTAMP\", c_uint64),\n",
    "        (\"lps_press_raw\", c_uint32),\n",
    "        (\"lis_mag_raw\", c_int16*3),\n",
    "        (\"lsm_acc_raw\", c_int16*3),\n",
    "        (\"lsm_gyr_raw\", c_int16*3),\n",
    "        (\"adxl_acc_raw\", c_int16*3),\n",
    "        (\"orientation_quat\", c_float*4),\n",
    "        (\"filtered_altitude_m\", c_float),\n",
    "        (\"gps_lat\", c_float),\n",
    "        (\"gps_lon\", c_float),\n",
    "        (\"gps_alt\", c_float),\n",
    "        (\"flags\", c_uint8),\n",
    "    ]\n",
    "    \n",
    "assert (sizeof(LogDataT)) == len(frames_dec[0])"
   ]
  },
  {
   "cell_type": "code",
   "execution_count": 410,
   "metadata": {},
   "outputs": [],
   "source": [
    "parsed_frames = [LogDataT.from_buffer_copy(b) for b in frames_dec]"
   ]
  },
  {
   "cell_type": "code",
   "execution_count": 411,
   "metadata": {},
   "outputs": [],
   "source": [
    "time_seconds = np.array([f.TIMESTAMP for f in parsed_frames]) * 1e-6\n",
    "%matplotlib qt"
   ]
  },
  {
   "cell_type": "code",
   "execution_count": 412,
   "metadata": {},
   "outputs": [],
   "source": [
    "\n",
    "# mag_xs = np.array([f.lis_mag_raw[0] for f in parsed_frames])\n",
    "# mag_ys = np.array([f.lis_mag_raw[1] for f in parsed_frames])\n",
    "# mag_zs = np.array([f.lis_mag_raw[2] for f in parsed_frames])\n",
    "\n",
    "# plt.plot(time_seconds, mag_zs)\n",
    "# plt.show()\n",
    "# fig = plt.figure()\n",
    "# ax = fig.add_subplot(projection='3d')\n",
    "# ax.scatter(mag_xs, mag_ys, mag_zs)\n",
    "\n",
    "# ax.set_xlabel('Magnetometer X (raw)')\n",
    "# ax.set_ylabel('Magnetometer Y (raw)')\n",
    "# ax.set_zlabel('Magnetometer Z (raw)')"
   ]
  },
  {
   "cell_type": "code",
   "execution_count": 413,
   "metadata": {},
   "outputs": [],
   "source": [
    "# acc_x = np.array([f.lsm_acc_raw[2] for f in parsed_frames])\n",
    "# plt.plot(time, acc_x)\n",
    "# plt.show()"
   ]
  },
  {
   "cell_type": "code",
   "execution_count": 414,
   "metadata": {},
   "outputs": [],
   "source": [
    "adxl_xs = np.array([f.adxl_acc_raw[0] * 49 / 1000.0 for f in parsed_frames])\n",
    "adxl_ys = np.array([f.adxl_acc_raw[1] * 49 / 1000.0 for f in parsed_frames])\n",
    "adxl_zs = np.array([f.adxl_acc_raw[2] * 49 / 1000.0 for f in parsed_frames])"
   ]
  },
  {
   "cell_type": "code",
   "execution_count": 415,
   "metadata": {},
   "outputs": [],
   "source": [
    "lsm_acc_xs = np.array([f.lsm_acc_raw[0] * 0.244 / 1000.0 for f in parsed_frames])\n",
    "lsm_acc_ys = np.array([f.lsm_acc_raw[1] * 0.244 / 1000.0 for f in parsed_frames])\n",
    "lsm_acc_zs = np.array([f.lsm_acc_raw[2] * 0.244 / 1000.0 for f in parsed_frames])"
   ]
  },
  {
   "cell_type": "code",
   "execution_count": 416,
   "metadata": {},
   "outputs": [],
   "source": [
    "plt.plot(time_seconds, lsm_acc_xs)\n",
    "plt.plot(time_seconds, adxl_xs)\n",
    "plt.show()"
   ]
  },
  {
   "cell_type": "code",
   "execution_count": null,
   "metadata": {},
   "outputs": [],
   "source": []
  }
 ],
 "metadata": {
  "kernelspec": {
   "display_name": "Python 3",
   "language": "python",
   "name": "python3"
  },
  "language_info": {
   "codemirror_mode": {
    "name": "ipython",
    "version": 3
   },
   "file_extension": ".py",
   "mimetype": "text/x-python",
   "name": "python",
   "nbconvert_exporter": "python",
   "pygments_lexer": "ipython3",
   "version": "3.10.11"
  }
 },
 "nbformat": 4,
 "nbformat_minor": 2
}
