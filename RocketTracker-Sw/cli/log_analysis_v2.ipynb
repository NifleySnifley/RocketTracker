{
 "cells": [
  {
   "cell_type": "code",
   "execution_count": 1,
   "metadata": {},
   "outputs": [],
   "source": [
    "import pickle\n",
    "import matplotlib.pyplot as plt\n",
    "from ctypes import *\n",
    "import numpy as np\n",
    "import base64\n",
    "import matplotlib\n",
    "from collections import Counter"
   ]
  },
  {
   "cell_type": "code",
   "execution_count": 2,
   "metadata": {},
   "outputs": [],
   "source": [
    "from lib.proto.protocol_pb2 import *\n",
    "from google.protobuf.json_format import MessageToJson, ParseDict, MessageToDict\n",
    "from lib.proto.protocol_pb2 import DatumTypeID, LinkID, TalkerID\n",
    "import lib.proto.protocol_pb2 as protocol\n",
    "from lib.comms_lib.crctabgen import crc16\n",
    "# from link import cobs_decode"
   ]
  },
  {
   "cell_type": "code",
   "execution_count": 3,
   "metadata": {},
   "outputs": [],
   "source": [
    "segments = pickle.load(open(\"./format_v2_test.pickle\", 'rb'))\n",
    "segments, ack = segments[:-1], segments[-1]\n",
    "crc_xor = ack['log_crc16']"
   ]
  },
  {
   "cell_type": "code",
   "execution_count": 4,
   "metadata": {},
   "outputs": [
    {
     "name": "stdout",
     "output_type": "stream",
     "text": [
      "dict_keys(['start_address', 'length', 'data', 'segment_crc16'])\n"
     ]
    }
   ],
   "source": [
    "print(segments[0].keys())"
   ]
  },
  {
   "cell_type": "code",
   "execution_count": 5,
   "metadata": {},
   "outputs": [
    {
     "name": "stdout",
     "output_type": "stream",
     "text": [
      "Data valid!\n"
     ]
    }
   ],
   "source": [
    "xor = 0\n",
    "for s in segments:\n",
    "    xor ^= s['segment_crc16']\n",
    "if (xor == crc_xor):\n",
    "    print(\"Data valid!\")"
   ]
  },
  {
   "cell_type": "code",
   "execution_count": 6,
   "metadata": {},
   "outputs": [],
   "source": [
    "LOGGER_COBS_ESC =0xAA\n",
    "LOGGER_COBS_ESC_AA =0x01\n",
    "LOGGER_COBS_ESC_FF =0x02\n",
    "def cobs_decode(data: bytes) -> bytes:\n",
    "    dout = bytes()\n",
    "    diter = iter(data)\n",
    "    while (d := next(diter, None)) is not None:\n",
    "        if (d == LOGGER_COBS_ESC):\n",
    "            dout += bytes([LOGGER_COBS_ESC if next(diter, None)\n",
    "                          == LOGGER_COBS_ESC_AA else 0xFF])\n",
    "        else:\n",
    "            dout += bytes([d])\n",
    "    return dout"
   ]
  },
  {
   "cell_type": "code",
   "execution_count": 7,
   "metadata": {},
   "outputs": [],
   "source": [
    "# TODO: Change the escape byte!!! 00 is too common...\n",
    "databuffer = bytes()\n",
    "for s in segments:\n",
    "    databuffer += base64.b64decode(s['data'])\n",
    "# data = cobs_decode(databuffer)\n",
    "# print(len(data), len(databuffer))"
   ]
  },
  {
   "cell_type": "code",
   "execution_count": 8,
   "metadata": {},
   "outputs": [
    {
     "name": "stdout",
     "output_type": "stream",
     "text": [
      "Counter({74: 3837})\n"
     ]
    }
   ],
   "source": [
    "frames = databuffer.split(b'\\xFF')\n",
    "frames_dec = [e for e in [cobs_decode(f) for f in frames] if len(e)]\n",
    "print(Counter([len(f) for f in frames_dec]))\n",
    "# assert len({len(f) for f in frames_dec}) == 1\n",
    "# len(frames_dec)"
   ]
  },
  {
   "cell_type": "code",
   "execution_count": 9,
   "metadata": {},
   "outputs": [
    {
     "name": "stdout",
     "output_type": "stream",
     "text": [
      "64\n"
     ]
    }
   ],
   "source": [
    "# typedef struct log_data_t {\n",
    "#     // Sensor data\n",
    "#     uint32_t lps_press_raw;\n",
    "#     uint16_t lis_mag_raw[3];\n",
    "#     uint16_t lsm_acc_raw[3];\n",
    "#     uint16_t lsm_gyr_raw[3];\n",
    "#     float adxl_acc_raw[3]; // TYPE TBD!!!\n",
    "#     // Processed data\n",
    "#     float orientation_quat[4];\n",
    "#     float filtered_altitude_m;\n",
    "#     // From GPS\n",
    "#     float gps_lat;\n",
    "#     float gps_lon;\n",
    "#     float gps_alt;\n",
    "#     uint8_t flags;\n",
    "# } log_data_t;\n",
    "\n",
    "class LogDataT(Structure):\n",
    "    _fields_ = [\n",
    "        (\"lps_press_raw\", c_uint32),\n",
    "        (\"lis_mag_raw\", c_int16*3),\n",
    "        (\"lsm_acc_raw\", c_int16*3),\n",
    "        (\"lsm_gyr_raw\", c_int16*3),\n",
    "        (\"adxl_acc_raw\", c_int16*3),\n",
    "        (\"orientation_quat\", c_float*4),\n",
    "        (\"filtered_altitude_m\", c_float),\n",
    "        (\"gps_lat\", c_float),\n",
    "        (\"gps_lon\", c_float),\n",
    "        (\"gps_alt\", c_float),\n",
    "        (\"flags\", c_uint8),\n",
    "    ]\n",
    "    \n",
    "assert (sizeof(LogDataT)+2+8) == len(frames_dec[0])\n",
    "print(sizeof(LogDataT))"
   ]
  },
  {
   "cell_type": "code",
   "execution_count": 10,
   "metadata": {},
   "outputs": [],
   "source": [
    "frames_dec.sort(key=lambda b: int.from_bytes(b[0:8], 'little'))\n",
    "\n",
    "\n",
    "parsed_frames = [LogDataT.from_buffer_copy(b[2+8:]) for b in frames_dec]"
   ]
  },
  {
   "cell_type": "code",
   "execution_count": 11,
   "metadata": {},
   "outputs": [],
   "source": [
    "time_seconds = np.array([int.from_bytes(b[0:8], 'little') for b in frames_dec]) * 1e-6\n",
    "%matplotlib qt"
   ]
  },
  {
   "cell_type": "code",
   "execution_count": 12,
   "metadata": {},
   "outputs": [],
   "source": [
    "# acc_x = np.array([f.lsm_acc_raw[2] for f in parsed_frames])\n",
    "# plt.plot(time, acc_x)\n",
    "# plt.show()\n",
    "# plt.plot(np.array([f.TIMESTAMP for f in parsed_frames]))\n",
    "# plt.show()\n",
    "# parsed_frames[0].TIMESTAMP, parsed_frames[1].TIMESTAMP, parsed_frames[2].TIMESTAMP"
   ]
  },
  {
   "cell_type": "code",
   "execution_count": 13,
   "metadata": {},
   "outputs": [],
   "source": [
    "# All in units of Gs\n",
    "adxl_xs = np.array([f.adxl_acc_raw[0] * 49 / 1000.0 for f in parsed_frames])\n",
    "adxl_ys = np.array([f.adxl_acc_raw[1] * 49 / 1000.0 for f in parsed_frames])\n",
    "adxl_zs = np.array([f.adxl_acc_raw[2] * 49 / 1000.0 for f in parsed_frames])"
   ]
  },
  {
   "cell_type": "code",
   "execution_count": 14,
   "metadata": {},
   "outputs": [],
   "source": [
    "# All in units of Gs\n",
    "lsm_acc_xs = np.array(\n",
    "    [f.lsm_acc_raw[0] * 0.488 / 1000.0 for f in parsed_frames])\n",
    "lsm_acc_ys = np.array(\n",
    "    [f.lsm_acc_raw[1] * 0.488 / 1000.0 for f in parsed_frames])\n",
    "lsm_acc_zs = np.array(\n",
    "    [f.lsm_acc_raw[2] * 0.488 / 1000.0 for f in parsed_frames])"
   ]
  },
  {
   "cell_type": "code",
   "execution_count": 15,
   "metadata": {},
   "outputs": [],
   "source": [
    "# All in units of degrees/second\n",
    "lsm_gyr_xs = np.array(\n",
    "    [f.lsm_gyr_raw[0] * 70.0 / 1000.0 for f in parsed_frames])\n",
    "lsm_gyr_ys = np.array(\n",
    "    [f.lsm_gyr_raw[1] * 70.0 / 1000.0 for f in parsed_frames])\n",
    "lsm_gyr_zs = np.array(\n",
    "    [f.lsm_gyr_raw[2] * 70.0 / 1000.0 for f in parsed_frames])"
   ]
  },
  {
   "cell_type": "code",
   "execution_count": 16,
   "metadata": {},
   "outputs": [],
   "source": [
    "# All in units of gauss\n",
    "lis_mag_xs = np.array([f.lis_mag_raw[0]/6842.0 for f in parsed_frames])\n",
    "lis_mag_ys = np.array([f.lis_mag_raw[1]/6842.0 for f in parsed_frames])\n",
    "lis_mag_zs = np.array([f.lis_mag_raw[2]/6842.0 for f in parsed_frames])"
   ]
  },
  {
   "cell_type": "code",
   "execution_count": 17,
   "metadata": {},
   "outputs": [],
   "source": [
    "lats = np.array([f.gps_lat for f in parsed_frames])\n",
    "lons = np.array([f.gps_lon for f in parsed_frames])\n",
    "g_alts = np.array([f.gps_alt for f in parsed_frames])"
   ]
  },
  {
   "cell_type": "code",
   "execution_count": 18,
   "metadata": {},
   "outputs": [],
   "source": [
    "alts = np.array([f.lps_press_raw for f in parsed_frames])"
   ]
  },
  {
   "cell_type": "code",
   "execution_count": 19,
   "metadata": {},
   "outputs": [],
   "source": [
    "fig, ((ax1), (ax2), (ax3)) = plt.subplots(3, 1)\n",
    "\n",
    "# # tot_gyr = np.sqrt(lsm_gyr_xs**2 + lsm_gyr_ys**2 + lsm_gyr_zs**2)\n",
    "\n",
    "\n",
    "\n",
    "ax1.plot(time_seconds, lsm_acc_xs)\n",
    "\n",
    "# ax1.plot(time_seconds, adxl_xs)\n",
    "\n",
    "ax2.plot(time_seconds, lsm_acc_ys)\n",
    "\n",
    "# ax2.plot(time_seconds, adxl_ys)\n",
    "\n",
    "ax3.plot(time_seconds, lsm_acc_zs)\n",
    "# ax3.plot(time_seconds, adxl_zs)\n",
    "\n",
    "# # # ax4.plot(time_seconds, tot_gyr)\n",
    "\n",
    "\n",
    "fig.show()"
   ]
  },
  {
   "cell_type": "code",
   "execution_count": 20,
   "metadata": {},
   "outputs": [],
   "source": [
    "##### FORWARD AXIS: X!"
   ]
  },
  {
   "cell_type": "code",
   "execution_count": 21,
   "metadata": {},
   "outputs": [],
   "source": [
    "# # plt.plot(time_seconds, -lsm_acc_xs)\n",
    "\n",
    "# Mrocket = 1.0 # Kg\n",
    "# fwd_force_n = -adxl_xs*9.81*Mrocket\n",
    "# plt.plot(time_seconds, fwd_force_n)"
   ]
  }
 ],
 "metadata": {
  "kernelspec": {
   "display_name": "Python 3",
   "language": "python",
   "name": "python3"
  },
  "language_info": {
   "codemirror_mode": {
    "name": "ipython",
    "version": 3
   },
   "file_extension": ".py",
   "mimetype": "text/x-python",
   "name": "python",
   "nbconvert_exporter": "python",
   "pygments_lexer": "ipython3",
   "version": "3.10.11"
  }
 },
 "nbformat": 4,
 "nbformat_minor": 2
}
