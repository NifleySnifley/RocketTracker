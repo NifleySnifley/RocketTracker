{
 "cells": [
  {
   "cell_type": "code",
   "execution_count": 144,
   "metadata": {},
   "outputs": [],
   "source": [
    "import loglib \n",
    "from matplotlib import pyplot as plt\n",
    "from collections import defaultdict\n",
    "from math import *\n",
    "import numpy as np\n",
    "from pyquaternion import Quaternion"
   ]
  },
  {
   "cell_type": "code",
   "execution_count": 145,
   "metadata": {},
   "outputs": [
    {
     "name": "stdout",
     "output_type": "stream",
     "text": [
      "Sublog 0:\n",
      "\tDevice boot @ T+3.40s\n",
      "\tLog rate 10Hz @ T+975.67s\n",
      "\tLog rate 200Hz @ T+1931.07s\n",
      "\tLiftoff @ T+1931.07s\n",
      "\tLog rate 60Hz @ T+1941.08s\n"
     ]
    }
   ],
   "source": [
    "log = loglib.RTRKLog()\n",
    "log.load_raw_pickle(\"./tripoli_2/dad_h550_orange_crash_GOOD.pickle\")\n",
    "log.calibrate(\"./tracker2_cfg.json\")\n",
    "sls = log.split_logs()\n",
    "for i,sl in enumerate(sls):\n",
    "    print(f\"Sublog {i}:\")\n",
    "    for ev in sl.get_events():\n",
    "        print(f\"\\t{ev}\")"
   ]
  },
  {
   "cell_type": "code",
   "execution_count": 146,
   "metadata": {},
   "outputs": [
    {
     "name": "stdout",
     "output_type": "stream",
     "text": [
      "\tDevice boot @ T-1927.67s\n",
      "\tLog rate 10Hz @ T-955.40s\n",
      "\tLog rate 200Hz @ T-0.00s\n",
      "\tLiftoff @ T+0.00s\n",
      "\tLog rate 60Hz @ T+10.00s\n"
     ]
    }
   ],
   "source": [
    "cur_log = sls[0]\n",
    "cur_log.normalize()\n",
    "cur_log.sort()\n",
    "for ev in cur_log.get_events():\n",
    "    print(f\"\\t{ev}\")\n",
    "\n",
    "log_data = [f for f in cur_log.frames if isinstance(f.data, loglib.LogDataDefault)]"
   ]
  },
  {
   "cell_type": "code",
   "execution_count": 147,
   "metadata": {},
   "outputs": [],
   "source": [
    "times = [f.timestamp for f in log_data]\n",
    "datas = [f.data for f in log_data]"
   ]
  },
  {
   "cell_type": "code",
   "execution_count": 148,
   "metadata": {},
   "outputs": [],
   "source": [
    "def hPa2alt(hPa):\n",
    "    return 44330.0 * (1 - pow(hPa / 1013.25, 0.190284));"
   ]
  },
  {
   "cell_type": "code",
   "execution_count": 149,
   "metadata": {},
   "outputs": [],
   "source": [
    "def axesSwapVector(vec):\n",
    "    return (\n",
    "\t\t-vec[0], \n",
    "\t\t-vec[1],\n",
    "\t\tvec[2]\n",
    "\t)\n",
    "    \n",
    "def interpolateAccel(lsm_acc, adxl_acc, low=15.8, high=16.0):\n",
    "    out = [0,0,0]\n",
    "    for ax in range(3):\n",
    "        lsm_v = lsm_acc[ax]\n",
    "        adxl_v = adxl_acc[ax]\n",
    "        \n",
    "        avg = (lsm_v + adxl_v) * 0.5\n",
    "        interp_t = (avg - low)/(high-low)\n",
    "   \n",
    "        # Clamp\n",
    "        if (interp_t < 0):\n",
    "            interp_t = 0.0\n",
    "        elif (interp_t > 1.0):\n",
    "            interp_t = 1.0\n",
    "        \n",
    "        out[ax] = (1.0-interp_t)*lsm_v + (interp_t)*adxl_v\n",
    "        \n",
    "    return out"
   ]
  },
  {
   "cell_type": "code",
   "execution_count": 150,
   "metadata": {},
   "outputs": [],
   "source": [
    "# TODO: For the real tracker, set much more conservative thresholds for reliability...\n",
    "\n",
    "class LandingDetector():\n",
    "    def __init__(self) -> None:\n",
    "        self.state = 0\n",
    "        self.alt_last = 0.0;\n",
    "    \n",
    "    # TODO: Use filtered V-Speed, need a better way because there's something funky going on with acceleration...\n",
    "    def calculate(self, acc_g: list, gyro_dps: list, dt: float):\n",
    "        accmag = abs(sqrt(sum([a**2 for a in acc_g]))-1.0)\n",
    "        gyrmag = sum([abs(g) for g in gyro_dps])\n",
    "        # alt_delta = (filt_alt-self.alt_last)/dt\n",
    "        # self.alt_last = filt_alt\n",
    "        # print(alt_delta)\n",
    "        # (abs(alt_delta) < 1.5) and\n",
    "        \n",
    "        # These are good values I think...\n",
    "        if (gyrmag < 5.0) and (accmag < 0.25):\n",
    "            self.state += dt\n",
    "        else:\n",
    "            self.state = 0\n",
    "            \n",
    "    def is_landed(self):\n",
    "        # Inactive for at least 0.1 second NEED TO INCREASE???\n",
    "        return self.state > 0.1\n",
    "    \n",
    "    "
   ]
  },
  {
   "cell_type": "code",
   "execution_count": 151,
   "metadata": {},
   "outputs": [
    {
     "name": "stdout",
     "output_type": "stream",
     "text": [
      "Launched @ t=0.005014999999957581\n",
      "Landed @ t=14.021848000000091\n"
     ]
    }
   ],
   "source": [
    "alts_raw = []\n",
    "alts_filtered = []\n",
    "accel_world = []\n",
    "accel_world_adxl = []\n",
    "vel_world = [(0,0,0)]\n",
    "pos_world = [(0,0,0)]\n",
    "\n",
    "launched = False\n",
    "launched_idx = 0\n",
    "\n",
    "dts = []\n",
    "\n",
    "alpha = 0.15\n",
    "\n",
    "hPa_filtered = 0\n",
    "hPa_filter_init = False\n",
    "alt_0 = None\n",
    "\n",
    "land_det = LandingDetector()\n",
    "landed_idx = -1\n",
    "\n",
    "tl = times[0] + (times[0]-times[1])\n",
    "for i, (t, data) in enumerate(zip(times, datas)):\n",
    "    dt = t-tl\n",
    "    tl = t\n",
    "    dts.append(dt)\n",
    "    \n",
    "    if (hPa_filter_init):\n",
    "        hPa_filtered = hPa_filtered*(1-alpha) + alpha*data.lps_press\n",
    "    else:\n",
    "        hPa_filtered = data.lps_press\n",
    "        alt_0 = hPa2alt(data.lps_press)\n",
    "        hPa_filter_init = True\n",
    "        \n",
    "    alt_m_raw = hPa2alt(data.lps_press)-alt_0\n",
    "    alt_m_filt = hPa2alt(hPa_filtered)-alt_0\n",
    "    \n",
    "    # Acceleration switchover (interpolation)\n",
    "    lsm_correct = axesSwapVector(data.lsm_acc)\n",
    "    adxl_correct = axesSwapVector(data.adxl_acc)\n",
    "    acc_interpolated = interpolateAccel(lsm_correct, adxl_correct)\n",
    "    \n",
    "    # acc = axesSwapVector(data.lsm_acc)\n",
    "    quat = Quaternion(*data.orientation_quat)\n",
    "    world_acc = quat.rotate(acc_interpolated)\n",
    "    world_acc = (\n",
    "        world_acc[0] * 9.81,\n",
    "        world_acc[1] * 9.81,\n",
    "        (world_acc[2]-1.0) * 9.81,\n",
    "    )\n",
    "    \n",
    "    if (abs(world_acc[2]) > 30.0 and not launched):\n",
    "        launched = True\n",
    "        launched_idx = i\n",
    "        print(f\"Launched @ t={t}\")\n",
    "    \n",
    "    if (launched):\n",
    "        vel_world.append((\n",
    "            (vel_world[-1][0] + world_acc[0]*dt),\n",
    "            (vel_world[-1][1] + world_acc[1]*dt),\n",
    "            (vel_world[-1][2] + world_acc[2]*dt),\n",
    "        ))\n",
    "        pos_world.append((\n",
    "            (pos_world[-1][0] + vel_world[-1][0]*dt),\n",
    "            (pos_world[-1][1] + vel_world[-1][1]*dt),\n",
    "            (pos_world[-1][2] + vel_world[-1][2]*dt),\n",
    "        ))\n",
    "        \n",
    "        land_det.calculate(data.lsm_acc, data.lsm_gyr, dt)\n",
    "        if (land_det.is_landed() and landed_idx == -1):\n",
    "            print(f\"Landed @ t={t}\")\n",
    "            landed_idx = i\n",
    "            \n",
    "    else:\n",
    "        vel_world.append(vel_world[-1])\n",
    "        pos_world.append(pos_world[-1])\n",
    "        \n",
    "    \n",
    "\n",
    "    alts_raw.append(alt_m_raw)\n",
    "    alts_filtered.append(alt_m_filt)\n",
    "    accel_world.append(world_acc)\n",
    "    \n",
    "del vel_world[0]\n",
    "del pos_world[0]\n",
    "        \n",
    "%matplotlib qt\n",
    "# plt.plot(times, alts_raw, label='raw altitude')\n",
    "# plt.plot(times, alts_filtered, label='alpha=0.15')\n",
    "# plt.plot(times, [d.filtered_altitude_m for d in datas], label='filtered altitude')\n",
    "# plt.plot(times, [wacc[0] for wacc in accel_world], label='accel X')\n",
    "# plt.plot(times, [wacc[1] for wacc in accel_world], label='accel Y')\n",
    "# plt.plot(times, [wacc[2] for wacc in accel_world], label='accel Z')\n",
    "# plt.plot(times, [v[2] for v in vel_world], label='Z velocity')\n",
    "\n",
    "plt.plot(times[launched_idx:landed_idx], [a[2] for a in accel_world][launched_idx:landed_idx], label='world accel')\n",
    "plt.plot(times[launched_idx:landed_idx], [v[2] for v in vel_world][launched_idx:landed_idx], label='world vel')\n",
    "plt.plot(times[launched_idx:landed_idx], [p[2] for p in pos_world][launched_idx:landed_idx], label='world pos')\n",
    "# plt.plot(times, alts_raw, label='raw altitude')\n",
    "plt.plot(times[launched_idx:landed_idx], alts_filtered[launched_idx:landed_idx], label='baro altimetry w/ alpha=0.15')  \n",
    "\n",
    "\n",
    "  \n",
    "plt.legend()\n",
    "plt.show()"
   ]
  },
  {
   "cell_type": "code",
   "execution_count": 152,
   "metadata": {},
   "outputs": [],
   "source": [
    "# ax = plt.figure().add_subplot(projection='3d')\n",
    "# ax.plot(\n",
    "#     *zip(*pos_world),\n",
    "#     label='flight'\n",
    "# )\n",
    "# ax.legend()\n",
    "# plt.show()\n",
    "# plt.plot(times, [sqrt(sum([a**2 for a in d.lsm_acc])) for d in datas], label='accel magnitude')\n",
    "\n",
    "plt.legend()\n",
    "plt.show()"
   ]
  },
  {
   "cell_type": "code",
   "execution_count": null,
   "metadata": {},
   "outputs": [],
   "source": []
  },
  {
   "cell_type": "code",
   "execution_count": 153,
   "metadata": {},
   "outputs": [
    {
     "data": {
      "text/plain": [
       "0.03515625"
      ]
     },
     "execution_count": 153,
     "metadata": {},
     "output_type": "execute_result"
    }
   ],
   "source": [
    "a = 0.15\n",
    "f_sampling = 60\n",
    "f_cutoff = (f_sampling / (2*pi))*acos(1-((a*a)/(2*(1-a))))\n",
    "\n",
    "ALPHA = 0.15\n",
    "r = 60/256\n",
    "ALPHA*r"
   ]
  },
  {
   "cell_type": "code",
   "execution_count": null,
   "metadata": {},
   "outputs": [],
   "source": []
  }
 ],
 "metadata": {
  "kernelspec": {
   "display_name": "Python 3",
   "language": "python",
   "name": "python3"
  },
  "language_info": {
   "codemirror_mode": {
    "name": "ipython",
    "version": 3
   },
   "file_extension": ".py",
   "mimetype": "text/x-python",
   "name": "python",
   "nbconvert_exporter": "python",
   "pygments_lexer": "ipython3",
   "version": "3.10.11"
  }
 },
 "nbformat": 4,
 "nbformat_minor": 2
}
