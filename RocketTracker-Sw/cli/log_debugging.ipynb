{
 "cells": [
  {
   "cell_type": "code",
   "execution_count": 104,
   "metadata": {},
   "outputs": [],
   "source": [
    "import pickle\n",
    "import matplotlib.pyplot as plt\n",
    "from ctypes import *\n",
    "import numpy as np\n",
    "import base64\n",
    "import matplotlib\n",
    "from collections import Counter\n",
    "import os\n",
    "import sys"
   ]
  },
  {
   "cell_type": "code",
   "execution_count": 105,
   "metadata": {},
   "outputs": [],
   "source": [
    "from lib.proto.protocol_pb2 import *\n",
    "from google.protobuf.json_format import MessageToJson, ParseDict, MessageToDict\n",
    "from lib.proto.protocol_pb2 import DatumTypeID, LinkID, TalkerID\n",
    "import lib.proto.protocol_pb2 as protocol\n",
    "from lib.comms_lib.crctabgen import crc16\n",
    "# from link import cobs_decode"
   ]
  },
  {
   "cell_type": "code",
   "execution_count": 106,
   "metadata": {},
   "outputs": [],
   "source": [
    "def loadlog(filename):\n",
    "    segments = pickle.load(open(filename, 'rb'))\n",
    "    segments, ack = segments[:-1], segments[-1]\n",
    "    # print(ack)\n",
    "    crc_xor = ack['log_crc16']\n",
    "    xor = 0\n",
    "    for s in segments:\n",
    "        xor ^= s['segment_crc16']\n",
    "    if (xor == crc_xor):\n",
    "        # print(\"Data valid!\")\n",
    "        pass\n",
    "    else:\n",
    "        print(f\"Data CRC mismatch: {filename}\")\n",
    "    return segments"
   ]
  },
  {
   "cell_type": "code",
   "execution_count": 107,
   "metadata": {},
   "outputs": [],
   "source": [
    "logfiles = [\n",
    "    'autolog_test.pickle',\n",
    "\t'board_2_shake_test.pickle',\n",
    "\t'desk_long_log.pickle',\n",
    "\t'log_50hz_walking.pickle',\n",
    "\t'log_acc_cal.pickle',\n",
    "\t'log_steadystate.pickle',\n",
    "\t'prelog_test.pickle',\n",
    "\t'tripoli_flight_1_h169_10.pickle',\n",
    "\t'tripoli_flight_1_h169_10_dl2.pickle',\n",
    "\t'tripoli_flight_2_h219_crash_dl2.pickle',\n",
    "\t# 'tripoli_flight_3_orange_h550.pickle',\n",
    "\t'tripoli_launch_4_i500.pickle',\n",
    "\t'vertical_shake_test_tripoli.pickle',\n",
    "\t'walk_on_street.pickle'\n",
    "]"
   ]
  },
  {
   "cell_type": "code",
   "execution_count": 108,
   "metadata": {},
   "outputs": [],
   "source": [
    "LOGGER_COBS_ESC = 0xAA\n",
    "LOGGER_COBS_ESC_AA = 0x01\n",
    "LOGGER_COBS_ESC_FF = 0x02\n",
    "\n",
    "\n",
    "def cobs_decode(data: bytes) -> bytes:\n",
    "    dout = bytes()\n",
    "    diter = iter(data)\n",
    "    while (d := next(diter, None)) is not None:\n",
    "        if (d == LOGGER_COBS_ESC):\n",
    "            dout += bytes([LOGGER_COBS_ESC if next(diter, None)\n",
    "                          == LOGGER_COBS_ESC_AA else 0xFF])\n",
    "        else:\n",
    "            dout += bytes([d])\n",
    "    return dout"
   ]
  },
  {
   "cell_type": "code",
   "execution_count": 109,
   "metadata": {},
   "outputs": [
    {
     "name": "stdout",
     "output_type": "stream",
     "text": [
      "Data CRC mismatch: tripoli_flight_1_h169_10.pickle\n",
      "Data CRC mismatch: tripoli_flight_1_h169_10_dl2.pickle\n",
      "Data CRC mismatch: tripoli_flight_2_h219_crash_dl2.pickle\n",
      "Data CRC mismatch: tripoli_launch_4_i500.pickle\n"
     ]
    }
   ],
   "source": [
    "def parselog(segments):\n",
    "    databuffer = bytes()\n",
    "    for s in segments:\n",
    "        databuffer += base64.b64decode(s['data'])\n",
    "    frames = databuffer.split(b'\\xFF')\n",
    "    frames_dec = [e for e in [cobs_decode(f) for f in frames] if len(e)]\n",
    "    return frames_dec\n",
    "\n",
    "logs = [(log,parselog(loadlog(log))) for log in logfiles]"
   ]
  },
  {
   "cell_type": "code",
   "execution_count": 110,
   "metadata": {},
   "outputs": [
    {
     "name": "stdout",
     "output_type": "stream",
     "text": [
      "autolog_test.pickle Counter({72: 9173})\n",
      "board_2_shake_test.pickle Counter({72: 2213})\n",
      "desk_long_log.pickle Counter({72: 11647})\n",
      "log_50hz_walking.pickle Counter({72: 4180})\n",
      "log_acc_cal.pickle Counter({72: 7753})\n",
      "log_steadystate.pickle Counter({72: 4461})\n",
      "prelog_test.pickle Counter({72: 2159})\n",
      "tripoli_flight_1_h169_10.pickle Counter({72: 19202, 76: 1})\n",
      "tripoli_flight_1_h169_10_dl2.pickle Counter({72: 19257, 92: 1})\n",
      "tripoli_flight_2_h219_crash_dl2.pickle Counter({72: 8212, 28: 1})\n",
      "tripoli_launch_4_i500.pickle Counter({72: 119309, 74: 2, 97: 1, 82: 1, 114: 1})\n",
      "vertical_shake_test_tripoli.pickle Counter({72: 498})\n",
      "walk_on_street.pickle Counter({72: 13759})\n"
     ]
    }
   ],
   "source": [
    "for name, log in logs:\n",
    "    print(name, Counter([len(f) for f in log]))"
   ]
  },
  {
   "cell_type": "code",
   "execution_count": null,
   "metadata": {},
   "outputs": [],
   "source": []
  }
 ],
 "metadata": {
  "kernelspec": {
   "display_name": "Python 3",
   "language": "python",
   "name": "python3"
  },
  "language_info": {
   "codemirror_mode": {
    "name": "ipython",
    "version": 3
   },
   "file_extension": ".py",
   "mimetype": "text/x-python",
   "name": "python",
   "nbconvert_exporter": "python",
   "pygments_lexer": "ipython3",
   "version": "3.10.11"
  }
 },
 "nbformat": 4,
 "nbformat_minor": 2
}
