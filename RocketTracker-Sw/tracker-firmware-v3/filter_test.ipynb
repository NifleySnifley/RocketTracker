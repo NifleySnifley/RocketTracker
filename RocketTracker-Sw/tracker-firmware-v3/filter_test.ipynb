{
 "cells": [
  {
   "cell_type": "code",
   "execution_count": 11,
   "metadata": {},
   "outputs": [],
   "source": [
    "from frccontrol.discretization import discretize_ab\n",
    "import numpy as np"
   ]
  },
  {
   "cell_type": "code",
   "execution_count": 12,
   "metadata": {},
   "outputs": [
    {
     "data": {
      "text/plain": [
       "(array([[1.00391389, 0.        ],\n",
       "        [0.        , 1.00391389]]),\n",
       " array([[0.        ],\n",
       "        [0.00391389]]))"
      ]
     },
     "execution_count": 12,
     "metadata": {},
     "output_type": "execute_result"
    }
   ],
   "source": [
    "A = np.array([\n",
    "    [1.0,0.0],\n",
    "    [0.0,1.0]\n",
    "])\n",
    "B = np.array([\n",
    "    [0.0],\n",
    "    [1.0]\n",
    "])\n",
    "\n",
    "Ad,Bd = discretize_ab(A,B,1/256.0)\n",
    "Ad,Bd"
   ]
  }
 ],
 "metadata": {
  "kernelspec": {
   "display_name": "Python 3",
   "language": "python",
   "name": "python3"
  },
  "language_info": {
   "codemirror_mode": {
    "name": "ipython",
    "version": 3
   },
   "file_extension": ".py",
   "mimetype": "text/x-python",
   "name": "python",
   "nbconvert_exporter": "python",
   "pygments_lexer": "ipython3",
   "version": "3.10.11"
  }
 },
 "nbformat": 4,
 "nbformat_minor": 2
}
